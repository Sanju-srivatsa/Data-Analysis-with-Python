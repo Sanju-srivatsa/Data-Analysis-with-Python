{
 "cells": [
  {
   "cell_type": "markdown",
   "id": "941f48e5-ca28-456a-b85f-8290270f9242",
   "metadata": {
    "tags": []
   },
   "source": [
    "# Final Exam\n",
    "Please write your codes in the given cells. \n",
    "\n",
    "Then **run** the cells and produce the **results**.\n",
    "Please submit two files\n",
    "+ Jupyter Notebook\n",
    "+ HTML fie by clicking File-> Save and Export Notebook As->HTML\n"
   ]
  },
  {
   "cell_type": "markdown",
   "id": "97a6f7df-3069-43de-b03e-b5eb34385ac5",
   "metadata": {},
   "source": [
    "## 1. Generate a dictionary containing the following items:\n",
    "\n",
    "+ first key is \"Semester\", the corresponding values are [\"Spring 22\", \"Summer 22\", \"Fall 22\"]\n",
    "+ second key is \"Credits\", the corresponding values are [15, 9, 12]\n",
    "+ the third key \"GPA\", the corresponding values are [3.6, 3.7, 3.8]"
   ]
  },
  {
   "cell_type": "code",
   "execution_count": 20,
   "id": "ba0c7596-cbad-4015-b992-9416ecb16bcf",
   "metadata": {},
   "outputs": [
    {
     "name": "stdout",
     "output_type": "stream",
     "text": [
      "{'Semester': ['Spring 22', 'Summer 22', 'Fall 22'], 'Credits': [15, 9, 12], 'GPA': [3.6, 3.7, 3.8]}\n"
     ]
    }
   ],
   "source": [
    "dic = {\"Semester\": [\"Spring 22\", \"Summer 22\", \"Fall 22\"],\n",
    "    \"Credits\": [15, 9, 12],\n",
    "    \"GPA\": [3.6, 3.7, 3.8]\n",
    "}\n",
    "print(dic)"
   ]
  },
  {
   "cell_type": "markdown",
   "id": "53ba1f51-e6a1-4872-a26e-fe475e830a53",
   "metadata": {},
   "source": [
    "# Q2 Given the following randomly generated integers, please answer the following:"
   ]
  },
  {
   "cell_type": "code",
   "execution_count": 15,
   "id": "962bb928-2192-4443-967a-b5446b5b5200",
   "metadata": {
    "scrolled": true
   },
   "outputs": [
    {
     "name": "stdout",
     "output_type": "stream",
     "text": [
      "[ 865  393 1348  631 1732   92 1662 1668 1608 1977  158  561 1185  921\n",
      " 1995 1802  692  140   56  627 1983  196  871 1350  561 1181 1173 1161\n",
      " 1831  706 1922   80  326 1483 1866 1599 1046   30 1627  775 1703  151\n",
      " 1472 1686 1221 1671  751  485 1379  644 1557 1592 1922 1333  778  340\n",
      "   83  625 1658 1090 1963  835  952   34 1617  979  713  223  476 1807\n",
      " 1769  655 1228  902  295 1748  356 1547 1105  321  336  543 1749 1815\n",
      " 1583  923  445 1407 1271 1550   25 1088  666 1242 1408 1674  582  754\n",
      "  432  474]\n"
     ]
    }
   ],
   "source": [
    "from numpy import random\n",
    "# Set the random number generator to a fixed sequence.\n",
    "random.seed(2020)\n",
    "\n",
    "data = random.randint(low = 1, high = 2000, size =100)\n",
    "print(data)"
   ]
  },
  {
   "cell_type": "markdown",
   "id": "b2b1717e-4140-4f82-875a-919801acd6e9",
   "metadata": {},
   "source": [
    "## Q2.1 Please find the sum of all the integers in data using loop( for or while)"
   ]
  },
  {
   "cell_type": "code",
   "execution_count": 16,
   "id": "008a85c4-e376-4d5c-b437-0314099f8ca4",
   "metadata": {},
   "outputs": [
    {
     "name": "stdout",
     "output_type": "stream",
     "text": [
      "103513\n"
     ]
    }
   ],
   "source": [
    "sum = 0\n",
    "for num in data:\n",
    "    sum += num\n",
    "print(sum)"
   ]
  },
  {
   "cell_type": "markdown",
   "id": "dff6ea7a-6372-4de6-831c-72a35f951dc4",
   "metadata": {},
   "source": [
    "# Q2.2 Please find the sum of all **odd** integers in data using loop( for or while)"
   ]
  },
  {
   "cell_type": "code",
   "execution_count": 17,
   "id": "3db168c9-a980-49ee-b0ba-debfc05d2c1e",
   "metadata": {
    "scrolled": true
   },
   "outputs": [
    {
     "name": "stdout",
     "output_type": "stream",
     "text": [
      "57949\n"
     ]
    }
   ],
   "source": [
    "oddsum = 0\n",
    "for num in data:\n",
    "    if num % 2 == 1:\n",
    "        oddsum += num\n",
    "print(oddsum)"
   ]
  },
  {
   "cell_type": "markdown",
   "id": "95ef921e-446a-49ae-9f02-dee73f9a5516",
   "metadata": {},
   "source": [
    "# Q3: Define a function to find the area of a circle with radius r\n",
    "\n",
    "Note the $\\pi$ is define in the math library\n",
    "https://www.w3schools.com/python/ref_math_pi.asp\n",
    "\n",
    "\n",
    "https://www.mathsisfun.com/geometry/circle-area.html"
   ]
  },
  {
   "cell_type": "code",
   "execution_count": 18,
   "id": "cbea4560-8178-44ec-9421-036b2696a623",
   "metadata": {},
   "outputs": [],
   "source": [
    "import math\n",
    "\n",
    "def area(r):\n",
    "    return math.pi * r ** 2"
   ]
  },
  {
   "cell_type": "markdown",
   "id": "d87bd7a4-793b-4ae5-8d2e-5882310852ad",
   "metadata": {},
   "source": [
    "# Q4:Given the following matrix\n",
    "\n"
   ]
  },
  {
   "cell_type": "code",
   "execution_count": 19,
   "id": "69f47eb5-80de-429a-ba1d-06ac20d3a012",
   "metadata": {},
   "outputs": [
    {
     "name": "stdout",
     "output_type": "stream",
     "text": [
      "[[ 4.63769617 -0.8142736   1.22335356  0.50347398  3.21355935  1.50055208]\n",
      " [ 2.08334202  7.68361904  6.01639152  4.96249026 -0.89251297 10.12271532]\n",
      " [ 4.31409743  4.83173191  2.44813731  3.81672363  4.04403979  0.0730601 ]\n",
      " [ 3.87360268  3.32534962  3.55417222  0.35477012  2.71356867  5.26913467]\n",
      " [ 3.56202335  3.13867236  0.2341829  -2.38399495  3.67837218  2.64350086]]\n"
     ]
    }
   ],
   "source": [
    "import numpy as np\n",
    "data = np.random.normal(3, 2.5, size=(5, 6))\n",
    "print(data)"
   ]
  },
  {
   "cell_type": "markdown",
   "id": "b3e4e3c8-3f1d-47b0-8002-fcc50118d833",
   "metadata": {},
   "source": [
    "# Q4.1 Find the max and min of  each column of the data"
   ]
  },
  {
   "cell_type": "code",
   "execution_count": 21,
   "id": "82e3b6ba-744b-48cb-86a4-578389f3dea1",
   "metadata": {},
   "outputs": [
    {
     "name": "stdout",
     "output_type": "stream",
     "text": [
      "[ 4.63769617  7.68361904  6.01639152  4.96249026  4.04403979 10.12271532]\n",
      "[ 2.08334202 -0.8142736   0.2341829  -2.38399495 -0.89251297  0.0730601 ]\n"
     ]
    }
   ],
   "source": [
    "max = np.amax(data, axis=0)\n",
    "min = np.amin(data, axis=0)\n",
    "\n",
    "print(max)\n",
    "print(min)"
   ]
  },
  {
   "cell_type": "markdown",
   "id": "fbaa13ab-eca7-4a2a-bf4e-40d07b1f9cdf",
   "metadata": {},
   "source": [
    "# Q 4.2 Find the average, standard deviation and 25th, 75th and 95th percentile of each column"
   ]
  },
  {
   "cell_type": "code",
   "execution_count": 23,
   "id": "34c7864d-dd06-4d10-a27a-030f3255e312",
   "metadata": {},
   "outputs": [
    {
     "name": "stdout",
     "output_type": "stream",
     "text": [
      "[3.69415233 3.63301987 2.6952475  1.45069261 2.5514054  3.92179261]\n",
      "[0.88532223 2.75542098 2.00260448 2.63567538 1.77895082 3.53768146]\n",
      "[3.56202335 3.13867236 1.22335356 0.35477012 2.71356867 1.50055208]\n",
      "[4.31409743 4.83173191 3.55417222 3.81672363 3.67837218 5.26913467]\n",
      "[4.57297642 7.11324161 5.52394766 4.73333693 3.97090627 9.15199919]\n"
     ]
    }
   ],
   "source": [
    "avg = np.mean(data, axis=0)\n",
    "std_dev = np.std(data, axis=0)\n",
    "per_25 = np.percentile(data, 25, axis=0)\n",
    "per_75 = np.percentile(data, 75, axis=0)\n",
    "per_95 = np.percentile(data, 95, axis=0)\n",
    "\n",
    "print(avg)\n",
    "print(std_dev)\n",
    "print(per_25)\n",
    "print(per_75)\n",
    "print(per_95)"
   ]
  },
  {
   "cell_type": "markdown",
   "id": "a0714fcd-3247-4c1e-8926-8f90b7411455",
   "metadata": {},
   "source": [
    "# Q4.3 Sort each column of the data and Return the indices of the sorted elements by each column\n",
    "\n",
    "for example, if given X= [3, 2, 0, 5]\n",
    "it should return array([2, 1, 0, 3], dtype=int64). You will use a method from numpy a**sort()."
   ]
  },
  {
   "cell_type": "code",
   "execution_count": 24,
   "id": "1b5cd84b-7f26-4b81-a185-36f9eda5dcb2",
   "metadata": {},
   "outputs": [
    {
     "name": "stdout",
     "output_type": "stream",
     "text": [
      "[[1 0 4 4 1 2]\n",
      " [4 4 0 3 3 0]\n",
      " [3 3 2 0 0 4]\n",
      " [2 2 3 2 4 3]\n",
      " [0 1 1 1 2 1]]\n"
     ]
    }
   ],
   "source": [
    "s_indices = np.argsort(data, axis=0)\n",
    "\n",
    "print(s_indices)"
   ]
  },
  {
   "cell_type": "markdown",
   "id": "22e46c0d-bcc6-4878-999d-15cc01429c8b",
   "metadata": {},
   "source": [
    "# Q5.1: Please create a data frame with the following data\n",
    "\n",
    "| indices | Chicago| St. Louis|\n",
    "|-----|-----|-----|\n",
    "|January| 20| 26|\n",
    "|february|23|30|\n",
    "|March|35|46|\n",
    "|April|50|62|\n"
   ]
  },
  {
   "cell_type": "code",
   "execution_count": 25,
   "id": "4b391ad9-8544-4f5c-9030-03bb27569389",
   "metadata": {
    "scrolled": true
   },
   "outputs": [
    {
     "name": "stdout",
     "output_type": "stream",
     "text": [
      "          Chicago  St. Louis\n",
      "January        20         26\n",
      "February       23         30\n",
      "March          35         46\n",
      "April          50         62\n"
     ]
    }
   ],
   "source": [
    "import pandas as pd\n",
    "\n",
    "data = {\n",
    "    \"Chicago\": [20, 23, 35, 50],\n",
    "    \"St. Louis\": [26, 30, 46, 62]\n",
    "}\n",
    "\n",
    "df = pd.DataFrame(data=data, index=[\"January\", \"February\", \"March\", \"April\"])\n",
    "\n",
    "print(df)"
   ]
  },
  {
   "cell_type": "markdown",
   "id": "aa9696f7-4000-4138-a2c8-d5babf6c2583",
   "metadata": {},
   "source": [
    "# Q5.2 Only keep the St.Louis column and print the result."
   ]
  },
  {
   "cell_type": "code",
   "execution_count": 26,
   "id": "75084008-a0ea-4ef4-bcb2-6fea320eef52",
   "metadata": {},
   "outputs": [
    {
     "name": "stdout",
     "output_type": "stream",
     "text": [
      "January     26\n",
      "February    30\n",
      "March       46\n",
      "April       62\n",
      "Name: St. Louis, dtype: int64\n"
     ]
    }
   ],
   "source": [
    "st_louis = df[\"St. Louis\"]\n",
    "print(st_louis)"
   ]
  },
  {
   "cell_type": "markdown",
   "id": "87448c0e-0865-43f2-a23d-5ea7648010ea",
   "metadata": {},
   "source": [
    "# Q5.3 Create a new column of differences, which is the differences between Chicago and St. Louis. Chicago-St.Louis"
   ]
  },
  {
   "cell_type": "code",
   "execution_count": 27,
   "id": "4d67cd62-6f6e-47a5-bbae-7cd1122b35e0",
   "metadata": {
    "scrolled": true
   },
   "outputs": [
    {
     "name": "stdout",
     "output_type": "stream",
     "text": [
      "          Chicago  St. Louis  Differences\n",
      "January        20         26           -6\n",
      "February       23         30           -7\n",
      "March          35         46          -11\n",
      "April          50         62          -12\n"
     ]
    }
   ],
   "source": [
    "df[\"Differences\"] = df[\"Chicago\"] - df[\"St. Louis\"]\n",
    "print(df)"
   ]
  },
  {
   "cell_type": "markdown",
   "id": "dbbf893f-924a-4869-a422-ceaffb676fac",
   "metadata": {},
   "source": [
    "# Q5.4 Select all data where Chicago > 30 and only keep two columns , Chicago and St. Louis"
   ]
  },
  {
   "cell_type": "code",
   "execution_count": 28,
   "id": "50888621-4630-4c6b-8c03-d243eed95944",
   "metadata": {},
   "outputs": [
    {
     "name": "stdout",
     "output_type": "stream",
     "text": [
      "       Chicago  St. Louis\n",
      "March       35         46\n",
      "April       50         62\n"
     ]
    }
   ],
   "source": [
    "new_df = df.loc[df[\"Chicago\"] > 30, [\"Chicago\", \"St. Louis\"]]\n",
    "print(new_df)"
   ]
  },
  {
   "cell_type": "markdown",
   "id": "74eea360-abd3-4a39-9fc1-45340b20bf43",
   "metadata": {},
   "source": [
    "# Q6: Merge the two datasets by the key column using inner join"
   ]
  },
  {
   "cell_type": "code",
   "execution_count": 29,
   "id": "ee5a9647-2f42-480f-a6bb-85c69fe4f153",
   "metadata": {},
   "outputs": [
    {
     "name": "stdout",
     "output_type": "stream",
     "text": [
      "  Key     value\n",
      "0   X -0.000528\n",
      "1   Y -0.274901\n",
      "2   Z -0.139286\n",
      "3   W  1.984686\n",
      "  Key     value\n",
      "0   U  0.282109\n",
      "1   V  0.760809\n",
      "2   A  0.300982\n",
      "3   Y  0.540297\n"
     ]
    }
   ],
   "source": [
    "import numpy as np\n",
    "import pandas as pd\n",
    "np.random.seed(2022)\n",
    "\n",
    "df1 = pd.DataFrame({'Key': ['X', 'Y', 'Z', 'W'], 'value': np.random.randn(4)})\n",
    "df2 = pd.DataFrame({'Key': ['U', 'V', 'A', 'Y'], 'value': np.random.randn(4)})\n",
    "\n",
    "print(df1)\n",
    "print(df2)"
   ]
  },
  {
   "cell_type": "code",
   "execution_count": 30,
   "id": "fa8704ed-530c-4f36-88aa-de124941c362",
   "metadata": {},
   "outputs": [
    {
     "name": "stdout",
     "output_type": "stream",
     "text": [
      "  Key   value_x   value_y\n",
      "0   Y -0.274901  0.540297\n"
     ]
    }
   ],
   "source": [
    "merged_df = pd.merge(df1, df2, on=\"Key\", how=\"inner\")\n",
    "print(merged_df)"
   ]
  },
  {
   "cell_type": "markdown",
   "id": "6010702d-4732-4a3d-854a-93f6b14ed953",
   "metadata": {},
   "source": [
    "# Q7.1 Please load the dataset of mtcars.csv into memory using pd.read_csv() funciton"
   ]
  },
  {
   "cell_type": "code",
   "execution_count": 31,
   "id": "aad99bb0-a5c1-477c-bb7c-8de9454cda6a",
   "metadata": {},
   "outputs": [],
   "source": [
    "import pandas as pd\n",
    "\n",
    "df = pd.read_csv(\"mtcars.csv\")"
   ]
  },
  {
   "cell_type": "markdown",
   "id": "80f3acd4-1844-4bd9-87a0-c19460cd5f91",
   "metadata": {},
   "source": [
    "# Q7.2 Please summarize the dataset using describe() funciton"
   ]
  },
  {
   "cell_type": "code",
   "execution_count": 32,
   "id": "4e7f6ecd-d679-4053-b640-ae0ba6565a8e",
   "metadata": {},
   "outputs": [
    {
     "name": "stdout",
     "output_type": "stream",
     "text": [
      "             mpg        cyl        disp          hp       drat         wt  \\\n",
      "count  41.000000  41.000000   41.000000   41.000000  41.000000  41.000000   \n",
      "mean   20.146341   6.097561  226.385366  141.780488   3.579024   3.181024   \n",
      "std     5.468871   1.729232  117.662512   65.661447   0.516865   0.884997   \n",
      "min    10.400000   4.000000   71.100000   52.000000   2.760000   1.513000   \n",
      "25%    15.800000   4.000000  121.000000   97.000000   3.080000   2.620000   \n",
      "50%    19.700000   6.000000  167.600000  110.000000   3.690000   3.215000   \n",
      "75%    22.800000   8.000000  318.000000  180.000000   3.920000   3.570000   \n",
      "max    33.900000   8.000000  472.000000  335.000000   4.930000   5.424000   \n",
      "\n",
      "            qsec         vs         am       gear       carb  \n",
      "count  41.000000  41.000000  41.000000  41.000000  41.000000  \n",
      "mean   17.911463   0.463415   0.414634   3.658537   2.707317  \n",
      "std     1.732707   0.504854   0.498779   0.693172   1.553124  \n",
      "min    14.500000   0.000000   0.000000   3.000000   1.000000  \n",
      "25%    16.900000   0.000000   0.000000   3.000000   2.000000  \n",
      "50%    17.820000   0.000000   0.000000   4.000000   2.000000  \n",
      "75%    18.900000   1.000000   1.000000   4.000000   4.000000  \n",
      "max    22.900000   1.000000   1.000000   5.000000   8.000000  \n"
     ]
    }
   ],
   "source": [
    "print(df.describe())"
   ]
  },
  {
   "cell_type": "markdown",
   "id": "a117ae74-fa6c-4ec3-9488-46054033932d",
   "metadata": {},
   "source": [
    "# Q7.3 Please group by am , only keep mpg, disp and hp columns and use describe method on that grouped data."
   ]
  },
  {
   "cell_type": "code",
   "execution_count": 33,
   "id": "9120d01f-e881-45f0-b219-22c31afdcda9",
   "metadata": {},
   "outputs": [
    {
     "name": "stdout",
     "output_type": "stream",
     "text": [
      "     mpg                                                         disp  \\\n",
      "   count       mean       std   min     25%    50%    75%   max count   \n",
      "am                                                                      \n",
      "0   24.0  17.612500  3.853323  10.4  15.075  17.95  19.75  24.4  24.0   \n",
      "1   17.0  23.723529  5.495513  15.0  21.000  21.40  27.30  33.9  17.0   \n",
      "\n",
      "                ...                  hp                                       \\\n",
      "          mean  ...    75%    max count        mean        std   min     25%   \n",
      "am              ...                                                            \n",
      "0   286.120833  ...  360.0  472.0  24.0  155.916667  56.909476  62.0  108.75   \n",
      "1   142.052941  ...  160.0  351.0  17.0  121.823529  73.484892  52.0   91.00   \n",
      "\n",
      "                          \n",
      "      50%     75%    max  \n",
      "am                        \n",
      "0   162.5  186.25  245.0  \n",
      "1   109.0  110.00  335.0  \n",
      "\n",
      "[2 rows x 24 columns]\n"
     ]
    }
   ],
   "source": [
    "grouped_data = df.groupby(\"am\")[[\"mpg\", \"disp\", \"hp\"]].describe()\n",
    "print(grouped_data)"
   ]
  },
  {
   "cell_type": "markdown",
   "id": "39aaffd2-4316-44a9-bfa0-b517a9e95654",
   "metadata": {},
   "source": [
    "# Q7.4 Please group by \"am\" and \"gear\",only keep mpg, disp and hp columns and use describe method on that grouped data."
   ]
  },
  {
   "cell_type": "code",
   "execution_count": 34,
   "id": "1ab01350-abf7-4c0e-8194-4019fd13e47b",
   "metadata": {},
   "outputs": [
    {
     "name": "stdout",
     "output_type": "stream",
     "text": [
      "          mpg                                                       disp  \\\n",
      "        count       mean       std   min   25%   50%     75%   max count   \n",
      "am gear                                                                    \n",
      "0  3     19.0  16.531579  3.314120  10.4  14.5  16.4  18.700  21.5  19.0   \n",
      "   4      5.0  21.720000  3.051557  17.8  19.2  22.8  24.400  24.4   5.0   \n",
      "1  4     12.0  24.700000  4.926182  21.0  21.0  22.1  28.075  33.9  12.0   \n",
      "   5      5.0  21.380000  6.658979  15.0  15.8  19.7  26.000  30.4   5.0   \n",
      "\n",
      "                     ...                  hp                                \\\n",
      "               mean  ...    75%    max count        mean         std   min   \n",
      "am gear              ...                                                     \n",
      "0  3     320.921053  ...  360.0  472.0  19.0  172.473684   50.421962  97.0   \n",
      "   4     153.880000  ...  167.6  167.6   5.0   93.000000   30.520485  62.0   \n",
      "1  4     116.875000  ...  160.0  160.0  12.0   91.083333   22.455849  52.0   \n",
      "   5     202.480000  ...  301.0  351.0   5.0  195.600000  102.833847  91.0   \n",
      "\n",
      "                                     \n",
      "           25%    50%    75%    max  \n",
      "am gear                              \n",
      "0  3     130.0  175.0  210.0  245.0  \n",
      "   4      62.0   95.0  123.0  123.0  \n",
      "1  4      66.0  101.0  110.0  110.0  \n",
      "   5     113.0  175.0  264.0  335.0  \n",
      "\n",
      "[4 rows x 24 columns]\n"
     ]
    }
   ],
   "source": [
    "grouped_data = df.groupby([\"am\", \"gear\"])[[\"mpg\", \"disp\", \"hp\"]].describe()\n",
    "print(grouped_data)"
   ]
  },
  {
   "cell_type": "markdown",
   "id": "f3e97b46-1390-451d-9f4e-0db8013cf4ce",
   "metadata": {},
   "source": [
    "# Q7.5 Generate a pivot table using two categorical features of am and gear to show the mpg. you can use pivot_table() method."
   ]
  },
  {
   "cell_type": "code",
   "execution_count": 35,
   "id": "87b1517c-a32e-4522-838f-eaa5a5ebfaf7",
   "metadata": {},
   "outputs": [
    {
     "name": "stdout",
     "output_type": "stream",
     "text": [
      "gear          3      4      5\n",
      "am                           \n",
      "0     16.531579  21.72    NaN\n",
      "1           NaN  24.70  21.38\n"
     ]
    }
   ],
   "source": [
    "pivot_table = pd.pivot_table(df, values=\"mpg\", index=\"am\", columns=\"gear\")\n",
    "print(pivot_table)"
   ]
  },
  {
   "cell_type": "markdown",
   "id": "7569395a-8610-41a6-a01c-f01240b2c9e2",
   "metadata": {},
   "source": [
    "# Q7.6 Scatter plot mpg (y-axis) against hp(x-axis) using plt.scatter(). Lable the x and y axis."
   ]
  },
  {
   "cell_type": "code",
   "execution_count": 36,
   "id": "c20814ee-d24d-4f07-975e-73f18e5265c6",
   "metadata": {},
   "outputs": [
    {
     "data": {
      "image/png": "[encoded data removed]",
      "text/plain": [
       "<Figure size 640x480 with 1 Axes>"
      ]
     },
     "metadata": {},
     "output_type": "display_data"
    }
   ],
   "source": [
    "import pandas as pd\n",
    "import matplotlib.pyplot as plt\n",
    "\n",
    "\n",
    "df = pd.read_csv('mtcars.csv')\n",
    "\n",
    "plt.scatter(df['hp'], df['mpg'])\n",
    "plt.xlabel('hp')\n",
    "plt.ylabel('mpg')\n",
    "plt.show()\n"
   ]
  },
  {
   "cell_type": "markdown",
   "id": "bbdc0af7-31d1-4f0e-bb6a-37cb4daa9f25",
   "metadata": {},
   "source": [
    "# Q7.7 Plot the histogram of the mpg using 30 bins and the y-axis show the count. Label the x and y axis."
   ]
  },
  {
   "cell_type": "code",
   "execution_count": 37,
   "id": "589a21b5-79bd-49ac-a087-194b8bdae14a",
   "metadata": {},
   "outputs": [
    {
     "data": {
      "image/png": "[encoded data removed]",
      "text/plain": [
       "<Figure size 640x480 with 1 Axes>"
      ]
     },
     "metadata": {},
     "output_type": "display_data"
    }
   ],
   "source": [
    "import pandas as pd\n",
    "import matplotlib.pyplot as plt\n",
    "\n",
    "\n",
    "df = pd.read_csv('mtcars.csv')\n",
    "\n",
    "\n",
    "plt.hist(df['mpg'], bins=30)\n",
    "plt.xlabel('mpg')\n",
    "plt.ylabel('count')\n",
    "plt.show()\n"
   ]
  }
 ],
 "metadata": {
  "kernelspec": {
   "display_name": "Python 3 (ipykernel)",
   "language": "python",
   "name": "python3"
  },
  "language_info": {
   "codemirror_mode": {
    "name": "ipython",
    "version": 3
   },
   "file_extension": ".py",
   "mimetype": "text/x-python",
   "name": "python",
   "nbconvert_exporter": "python",
   "pygments_lexer": "ipython3",
   "version": "3.9.13"
  }
 },
 "nbformat": 4,
 "nbformat_minor": 5
}
